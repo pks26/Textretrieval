{
  "nbformat": 4,
  "nbformat_minor": 0,
  "metadata": {
    "colab": {
      "name": "hw1q3ab.ipynb",
      "provenance": [],
      "authorship_tag": "ABX9TyOJgdTpUSWpS/YRjXSVr+BX",
      "include_colab_link": true
    },
    "kernelspec": {
      "name": "python3",
      "display_name": "Python 3"
    }
  },
  "cells": [
    {
      "cell_type": "markdown",
      "metadata": {
        "id": "view-in-github",
        "colab_type": "text"
      },
      "source": [
        "<a href=\"https://colab.research.google.com/github/pks26/Textretrieval/blob/master/hw1q3ab.ipynb\" target=\"_parent\"><img src=\"https://colab.research.google.com/assets/colab-badge.svg\" alt=\"Open In Colab\"/></a>"
      ]
    },
    {
      "cell_type": "code",
      "metadata": {
        "id": "2AU2_v-3GGQ_",
        "colab_type": "code",
        "colab": {}
      },
      "source": [
        "import numpy as np \n",
        "import matplotlib.pyplot as plt\n",
        "import seaborn as sns; sns.set()\n",
        "# Define dimension. \n",
        "d = 3\n",
        "\n",
        "\n",
        "\n",
        "# Set covariance function. \n",
        "K_0 = np.array([[1, 0, 0],\n",
        "                [0, 1, 0],\n",
        "                [0, 0, 1]])"
      ],
      "execution_count": 0,
      "outputs": []
    },
    {
      "cell_type": "code",
      "metadata": {
        "id": "6ncWG2YSGTVL",
        "colab_type": "code",
        "colab": {
          "base_uri": "https://localhost:8080/",
          "height": 34
        },
        "outputId": "fae7773a-097c-4509-c147-89a118b5e30c"
      },
      "source": [
        "np.linalg.eigvals(K_0)\n"
      ],
      "execution_count": 17,
      "outputs": [
        {
          "output_type": "execute_result",
          "data": {
            "text/plain": [
              "array([1., 1., 1.])"
            ]
          },
          "metadata": {
            "tags": []
          },
          "execution_count": 17
        }
      ]
    },
    {
      "cell_type": "code",
      "metadata": {
        "id": "F-T4LS5JGi88",
        "colab_type": "code",
        "colab": {
          "base_uri": "https://localhost:8080/",
          "height": 68
        },
        "outputId": "c5d56af1-c890-4659-bffe-8a4e9018f5f1"
      },
      "source": [
        "epsilon = 0.0001\n",
        "\n",
        "\n",
        "K = K_0 + epsilon*np.identity(d)\n",
        "L = np.linalg.cholesky(K)\n",
        "L\n"
      ],
      "execution_count": 18,
      "outputs": [
        {
          "output_type": "execute_result",
          "data": {
            "text/plain": [
              "array([[1.00005, 0.     , 0.     ],\n",
              "       [0.     , 1.00005, 0.     ],\n",
              "       [0.     , 0.     , 1.00005]])"
            ]
          },
          "metadata": {
            "tags": []
          },
          "execution_count": 18
        }
      ]
    },
    {
      "cell_type": "code",
      "metadata": {
        "id": "2HVeXX7_GyNc",
        "colab_type": "code",
        "colab": {
          "base_uri": "https://localhost:8080/",
          "height": 68
        },
        "outputId": "f96ac0a3-c3b7-4562-8781-645c527c1789"
      },
      "source": [
        "np.dot(L, np.transpose(L))"
      ],
      "execution_count": 19,
      "outputs": [
        {
          "output_type": "execute_result",
          "data": {
            "text/plain": [
              "array([[1.0001, 0.    , 0.    ],\n",
              "       [0.    , 1.0001, 0.    ],\n",
              "       [0.    , 0.    , 1.0001]])"
            ]
          },
          "metadata": {
            "tags": []
          },
          "execution_count": 19
        }
      ]
    },
    {
      "cell_type": "code",
      "metadata": {
        "id": "vso6-TMCG39Z",
        "colab_type": "code",
        "colab": {
          "base_uri": "https://localhost:8080/",
          "height": 68
        },
        "outputId": "3d8ddd55-3385-4076-ec48-a0e7a1e2e2f8"
      },
      "source": [
        "n = 10000\n",
        "# Set mean vector. \n",
        "#m = np.array([d, n])\n",
        "u = np.random.normal(loc=0, scale=1, size=d*n).reshape(d, n)\n",
        "print(m.shape)\n",
        "print(L.shape)\n",
        "print(u.shape)\n",
        "\n"
      ],
      "execution_count": 34,
      "outputs": [
        {
          "output_type": "stream",
          "text": [
            "(2,)\n",
            "(3, 3)\n",
            "(3, 10000)\n"
          ],
          "name": "stdout"
        }
      ]
    },
    {
      "cell_type": "code",
      "metadata": {
        "id": "u2uW4j8kHfyy",
        "colab_type": "code",
        "colab": {
          "base_uri": "https://localhost:8080/",
          "height": 437
        },
        "outputId": "b7b2215f-4895-4cd0-abec-55e072df850b"
      },
      "source": [
        "x = np.dot(L, u)\n",
        "sns.jointplot(x=x[0],\n",
        "              y=x[1], \n",
        "              kind=\"kde\", \n",
        "              space=0);"
      ],
      "execution_count": 35,
      "outputs": [
        {
          "output_type": "display_data",
          "data": {
            "image/png": "[encoded data removed]",
            "text/plain": [
              "<Figure size 432x432 with 3 Axes>"
            ]
          },
          "metadata": {
            "tags": []
          }
        }
      ]
    },
    {
      "cell_type": "markdown",
      "metadata": {
        "id": "zA_V-MvL5vEd",
        "colab_type": "text"
      },
      "source": [
        "After having done the above method, where I've set the mean, covariance matrix, I realised that this can be done using a single command in numpy, as shown below:"
      ]
    },
    {
      "cell_type": "code",
      "metadata": {
        "id": "X1VpgBLPO8sb",
        "colab_type": "code",
        "colab": {}
      },
      "source": [
        "m = np.array([d, n, d])\n",
        "z = np.random.multivariate_normal(mean=m.reshape(d,), cov=K, size=n)\n"
      ],
      "execution_count": 0,
      "outputs": []
    },
    {
      "cell_type": "code",
      "metadata": {
        "id": "SN8yAqf5PRax",
        "colab_type": "code",
        "colab": {}
      },
      "source": [
        "y = np.transpose(z)"
      ],
      "execution_count": 0,
      "outputs": []
    },
    {
      "cell_type": "code",
      "metadata": {
        "id": "kQ57HV0yPUzu",
        "colab_type": "code",
        "colab": {
          "base_uri": "https://localhost:8080/",
          "height": 437
        },
        "outputId": "bd4a3c0f-0146-42e5-dc5f-e5ee7f0fd2a1"
      },
      "source": [
        "sns.jointplot(x=y[0],\n",
        "              y=y[1], \n",
        "              kind=\"kde\", \n",
        "              space=0);"
      ],
      "execution_count": 42,
      "outputs": [
        {
          "output_type": "display_data",
          "data": {
            "image/png": "[encoded data removed]",
            "text/plain": [
              "<Figure size 432x432 with 3 Axes>"
            ]
          },
          "metadata": {
            "tags": []
          }
        }
      ]
    }
  ]
}